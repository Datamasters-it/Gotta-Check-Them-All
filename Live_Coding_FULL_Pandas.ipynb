{
 "cells": [
  {
   "cell_type": "markdown",
   "id": "ea053bfa",
   "metadata": {
    "pycharm": {
     "name": "#%% md\n"
    }
   },
   "source": [
    "### Sottoproblema 1: Prendere in input dei dati dall'utente e memorizzarli sottoforma di numeri\n"
   ]
  },
  {
   "cell_type": "markdown",
   "id": "d8c0ac46",
   "metadata": {
    "pycharm": {
     "name": "#%% md\n"
    }
   },
   "source": [
    "Qui andremo a prendere 6 input dall'utente e a trasformarli in variabili float"
   ]
  },
  {
   "cell_type": "code",
   "execution_count": null,
   "id": "f300db6c",
   "metadata": {
    "pycharm": {
     "name": "#%%\n"
    }
   },
   "outputs": [],
   "source": [
    "hp = float(input('quale è il valore dei punti vita?\\n'))\n",
    "attack = float(input('quale è il valore di attacco?\\n'))\n",
    "defense = float(input('quale è il valore di difesa?\\n'))\n",
    "sp_atk = float(input(\"quale è il valore dell'attacco speciale?\\n\"))\n",
    "sp_def = float(input(\"quale è il valore della difesa speciale?\\n\"))\n",
    "speed = float(input(\"quale è il valore della velocità?\\n\"))"
   ]
  },
  {
   "cell_type": "code",
   "execution_count": null,
   "id": "dfda0d77",
   "metadata": {
    "pycharm": {
     "name": "#%%\n"
    }
   },
   "outputs": [],
   "source": [
    "print('punti vita', hp)\n",
    "print('attacco', attack)\n",
    "print('difesa', defense)\n",
    "print('attacco speciale', sp_atk)\n",
    "print('difesa speciale', sp_def)\n",
    "print('velocità', speed)"
   ]
  },
  {
   "cell_type": "markdown",
   "id": "3d4e835b",
   "metadata": {
    "pycharm": {
     "name": "#%% md\n"
    }
   },
   "source": [
    "### Sottoproblema 2.a Leggere dal dataset tutti i dati relativi ai Pokemon\n"
   ]
  },
  {
   "cell_type": "markdown",
   "id": "931a0806",
   "metadata": {
    "pycharm": {
     "name": "#%% md\n"
    }
   },
   "source": [
    "Qui andremo ad aprire il dataset dei pokemon e ad assegnarlo ad una variabile"
   ]
  },
  {
   "cell_type": "markdown",
   "source": [
    "Se sei è su Colab\n",
    "```python\n",
    "import os\n",
    "from google.colab import drive\n",
    "drive.mount('/content/drive')\n",
    "os.chdir('/content/drive/MyDrive/beginners')\n",
    "```"
   ],
   "metadata": {
    "collapsed": false,
    "pycharm": {
     "name": "#%% md\n"
    }
   }
  },
  {
   "cell_type": "code",
   "execution_count": null,
   "id": "7ae0794a",
   "metadata": {
    "pycharm": {
     "name": "#%%\n"
    }
   },
   "outputs": [],
   "source": [
    "import csv"
   ]
  },
  {
   "cell_type": "code",
   "execution_count": null,
   "id": "757f5128",
   "metadata": {
    "pycharm": {
     "name": "#%%\n"
    }
   },
   "outputs": [],
   "source": [
    "pokemon_rows = []\n",
    "with open('pokemon.csv', 'r') as file2:\n",
    "    reader = csv.reader(file2)\n",
    "    columns = next(reader)\n",
    "    print(columns)\n",
    "    for row in reader:\n",
    "        pokemon_rows.append(row)"
   ]
  },
  {
   "cell_type": "code",
   "execution_count": null,
   "id": "5774d022",
   "metadata": {
    "pycharm": {
     "name": "#%%\n"
    }
   },
   "outputs": [],
   "source": [
    "print(pokemon_rows[-1])"
   ]
  },
  {
   "cell_type": "code",
   "execution_count": null,
   "outputs": [],
   "source": [
    "print(pokemon_rows[0])"
   ],
   "metadata": {
    "collapsed": false,
    "pycharm": {
     "name": "#%%\n"
    }
   }
  },
  {
   "cell_type": "code",
   "execution_count": null,
   "outputs": [],
   "source": [
    "print(len(pokemon_rows))"
   ],
   "metadata": {
    "collapsed": false,
    "pycharm": {
     "name": "#%%\n"
    }
   }
  },
  {
   "cell_type": "markdown",
   "source": [
    "Facciamo la stessa cosa utilizzando pandas (panel-datas), una libreria per la manipolazione e l'analisi dei dati che offre strutture dati e operazioni per manipolare tabelle numeriche e serie temporali.\n"
   ],
   "metadata": {
    "collapsed": false,
    "pycharm": {
     "name": "#%% md\n"
    }
   }
  },
  {
   "cell_type": "code",
   "execution_count": null,
   "outputs": [],
   "source": [
    "\n",
    "!pip install pandas"
   ],
   "metadata": {
    "collapsed": false,
    "pycharm": {
     "name": "#%%\n"
    }
   }
  },
  {
   "cell_type": "code",
   "execution_count": null,
   "outputs": [],
   "source": [
    "import pandas as pd"
   ],
   "metadata": {
    "collapsed": false,
    "pycharm": {
     "name": "#%%\n"
    }
   }
  },
  {
   "cell_type": "code",
   "execution_count": null,
   "outputs": [],
   "source": [
    "df_pokemon = pd.read_csv('pokemon.csv')"
   ],
   "metadata": {
    "collapsed": false,
    "pycharm": {
     "name": "#%%\n"
    }
   }
  },
  {
   "cell_type": "code",
   "execution_count": null,
   "outputs": [],
   "source": [
    "df_pokemon.head()"
   ],
   "metadata": {
    "collapsed": false,
    "pycharm": {
     "name": "#%%\n"
    }
   }
  },
  {
   "cell_type": "code",
   "execution_count": null,
   "outputs": [],
   "source": [
    "df_pokemon.head(2)"
   ],
   "metadata": {
    "collapsed": false,
    "pycharm": {
     "name": "#%%\n"
    }
   }
  },
  {
   "cell_type": "code",
   "execution_count": null,
   "outputs": [],
   "source": [
    "df_pokemon.tail()"
   ],
   "metadata": {
    "collapsed": false,
    "pycharm": {
     "name": "#%%\n"
    }
   }
  },
  {
   "cell_type": "code",
   "execution_count": null,
   "outputs": [],
   "source": [
    "df_pokemon.tail(3)"
   ],
   "metadata": {
    "collapsed": false,
    "pycharm": {
     "name": "#%%\n"
    }
   }
  },
  {
   "cell_type": "markdown",
   "source": [
    "### Sottoproblema 2.b Utilizzare una funzione per stabilire un grado di similarità\n"
   ],
   "metadata": {
    "collapsed": false,
    "pycharm": {
     "name": "#%% md\n"
    }
   }
  },
  {
   "cell_type": "markdown",
   "source": [
    "Qui andremo a creare e testare le funzioni per\n",
    "- calcolo della distanza euclidea\n",
    "- normalizzazione\n",
    "Inoltre ci andremo a prendere le colonne con i soli valori numerici dal dataset"
   ],
   "metadata": {
    "collapsed": false,
    "pycharm": {
     "name": "#%% md\n"
    }
   }
  },
  {
   "cell_type": "code",
   "execution_count": null,
   "outputs": [],
   "source": [
    "p1 = (5, 8)\n",
    "p2 = (7, 6)"
   ],
   "metadata": {
    "collapsed": false,
    "pycharm": {
     "name": "#%%\n"
    }
   }
  },
  {
   "cell_type": "code",
   "execution_count": null,
   "outputs": [],
   "source": [
    "def euclidean_distance(p, q):\n",
    "    distance = 0\n",
    "    for px, qx in zip(p, q):\n",
    "        distance += (px - qx) ** 2\n",
    "    distance = distance ** (1 / 2)\n",
    "    return distance\n",
    "\n",
    "\n",
    "print(euclidean_distance(p1, p2))"
   ],
   "metadata": {
    "collapsed": false,
    "pycharm": {
     "name": "#%%\n"
    }
   }
  },
  {
   "cell_type": "markdown",
   "source": [
    "usiamo la libreria math"
   ],
   "metadata": {
    "collapsed": false,
    "pycharm": {
     "name": "#%% md\n"
    }
   }
  },
  {
   "cell_type": "code",
   "execution_count": null,
   "outputs": [],
   "source": [
    "import math"
   ],
   "metadata": {
    "collapsed": false,
    "pycharm": {
     "name": "#%%\n"
    }
   }
  },
  {
   "cell_type": "code",
   "execution_count": null,
   "outputs": [],
   "source": [
    "def euclidean_distance(p, q):\n",
    "    distance = 0\n",
    "    for px, qx in zip(p, q):\n",
    "        distance += math.pow((px - qx), 2)\n",
    "    distance = math.sqrt(distance)\n",
    "    return distance\n",
    "\n",
    "\n",
    "print(euclidean_distance(p1, p2))"
   ],
   "metadata": {
    "collapsed": false,
    "pycharm": {
     "name": "#%%\n"
    }
   }
  },
  {
   "cell_type": "markdown",
   "source": [
    "  New in version 3.8\n",
    "  ```python\n",
    "  def euclidean_distance(p, q):\n",
    "    return math.dist(p, q)\n",
    "print(euclidean_distance(p1, p2))\n",
    "  ```"
   ],
   "metadata": {
    "collapsed": false,
    "pycharm": {
     "name": "#%% md\n"
    }
   }
  },
  {
   "cell_type": "code",
   "execution_count": null,
   "outputs": [],
   "source": [
    "print(columns)"
   ],
   "metadata": {
    "collapsed": false,
    "pycharm": {
     "name": "#%%\n"
    }
   }
  },
  {
   "cell_type": "markdown",
   "source": [
    "Selezioniamo i valori di interesse e inseriamoli in una lista"
   ],
   "metadata": {
    "collapsed": false,
    "pycharm": {
     "name": "#%% md\n"
    }
   }
  },
  {
   "cell_type": "code",
   "execution_count": null,
   "outputs": [],
   "source": [
    "indexs = [5, 6, 7, 8, 9, 10]"
   ],
   "metadata": {
    "collapsed": false,
    "pycharm": {
     "name": "#%%\n"
    }
   }
  },
  {
   "cell_type": "code",
   "execution_count": null,
   "outputs": [],
   "source": [
    "def get_pokemon_values(row):\n",
    "    pokemon_values = []\n",
    "    for index in indexs:\n",
    "        pokemon_values.append(float(row[index]))\n",
    "    return pokemon_values"
   ],
   "metadata": {
    "collapsed": false,
    "pycharm": {
     "name": "#%%\n"
    }
   }
  },
  {
   "cell_type": "code",
   "execution_count": null,
   "outputs": [],
   "source": [
    "print(get_pokemon_values(pokemon_rows[0]))"
   ],
   "metadata": {
    "collapsed": false,
    "pycharm": {
     "name": "#%%\n"
    }
   }
  },
  {
   "cell_type": "code",
   "execution_count": null,
   "outputs": [],
   "source": [
    "for i in range(2,10,2):\n",
    "    print(i)"
   ],
   "metadata": {
    "collapsed": false,
    "pycharm": {
     "name": "#%%\n"
    }
   }
  },
  {
   "cell_type": "code",
   "execution_count": null,
   "outputs": [],
   "source": [
    "lista=['a','b','c']\n",
    "for n,i in enumerate(lista):\n",
    "    print(n,i)"
   ],
   "metadata": {
    "collapsed": false,
    "pycharm": {
     "name": "#%%\n"
    }
   }
  },
  {
   "cell_type": "code",
   "execution_count": null,
   "outputs": [],
   "source": [
    "pokemon_values = []\n",
    "for row in pokemon_rows:\n",
    "    pokemon_values.append(get_pokemon_values(row))"
   ],
   "metadata": {
    "collapsed": false,
    "pycharm": {
     "name": "#%%\n"
    }
   }
  },
  {
   "cell_type": "code",
   "execution_count": null,
   "outputs": [],
   "source": [
    "pokemon_values[0]"
   ],
   "metadata": {
    "collapsed": false,
    "pycharm": {
     "name": "#%%\n"
    }
   }
  },
  {
   "cell_type": "code",
   "execution_count": null,
   "outputs": [],
   "source": [
    "print(pokemon_rows[0])"
   ],
   "metadata": {
    "collapsed": false,
    "pycharm": {
     "name": "#%%\n"
    }
   }
  },
  {
   "cell_type": "markdown",
   "source": [
    "Selezioniamo i valori di interesse con pandas"
   ],
   "metadata": {
    "collapsed": false,
    "pycharm": {
     "name": "#%% md\n"
    }
   }
  },
  {
   "cell_type": "code",
   "execution_count": null,
   "outputs": [],
   "source": [
    "print(list(df_pokemon.columns))"
   ],
   "metadata": {
    "collapsed": false,
    "pycharm": {
     "name": "#%%\n"
    }
   }
  },
  {
   "cell_type": "code",
   "execution_count": null,
   "outputs": [],
   "source": [
    "COLUMNS = ['HP', 'Attack', 'Defense', 'Sp. Atk', 'Sp. Def', 'Speed']"
   ],
   "metadata": {
    "collapsed": false,
    "pycharm": {
     "name": "#%%\n"
    }
   }
  },
  {
   "cell_type": "code",
   "execution_count": null,
   "outputs": [],
   "source": [
    "df_pokemon[['HP', 'Attack', 'Defense', 'Sp. Atk', 'Sp. Def', 'Speed']].head()"
   ],
   "metadata": {
    "collapsed": false,
    "pycharm": {
     "name": "#%%\n"
    }
   }
  },
  {
   "cell_type": "code",
   "execution_count": null,
   "outputs": [],
   "source": [
    "df_pokemon[COLUMNS].head()"
   ],
   "metadata": {
    "collapsed": false,
    "pycharm": {
     "name": "#%%\n"
    }
   }
  },
  {
   "cell_type": "code",
   "execution_count": null,
   "outputs": [],
   "source": [
    "print(type(df_pokemon.iloc[0]))\n",
    "print(df_pokemon.iloc[0])"
   ],
   "metadata": {
    "collapsed": false,
    "pycharm": {
     "name": "#%%\n"
    }
   }
  },
  {
   "cell_type": "markdown",
   "source": [
    "selezioniamo i valori di interesse uno alla volta"
   ],
   "metadata": {
    "collapsed": false,
    "pycharm": {
     "name": "#%% md\n"
    }
   }
  },
  {
   "cell_type": "code",
   "execution_count": null,
   "outputs": [],
   "source": [
    "print(type(list(df_pokemon.iloc[0])))\n",
    "print(list(df_pokemon.iloc[0]))"
   ],
   "metadata": {
    "collapsed": false,
    "pycharm": {
     "name": "#%%\n"
    }
   }
  },
  {
   "cell_type": "code",
   "execution_count": null,
   "outputs": [],
   "source": [
    "def get_df_pokemon_values(row):\n",
    "    pokemon_values = row[COLUMNS]\n",
    "    return list(pokemon_values)"
   ],
   "metadata": {
    "collapsed": false,
    "pycharm": {
     "name": "#%%\n"
    }
   }
  },
  {
   "cell_type": "code",
   "execution_count": null,
   "outputs": [],
   "source": [
    "print(get_df_pokemon_values(df_pokemon.iloc[0]))"
   ],
   "metadata": {
    "collapsed": false,
    "pycharm": {
     "name": "#%%\n"
    }
   }
  },
  {
   "cell_type": "markdown",
   "source": [
    "selezioniamo i valori di interesse tutti insieme"
   ],
   "metadata": {
    "collapsed": false,
    "pycharm": {
     "name": "#%% md\n"
    }
   }
  },
  {
   "cell_type": "code",
   "execution_count": null,
   "outputs": [],
   "source": [
    "df_pokemon_values = df_pokemon[COLUMNS]"
   ],
   "metadata": {
    "collapsed": false,
    "pycharm": {
     "name": "#%%\n"
    }
   }
  },
  {
   "cell_type": "code",
   "execution_count": null,
   "outputs": [],
   "source": [
    "df_pokemon_values.head()"
   ],
   "metadata": {
    "collapsed": false,
    "pycharm": {
     "name": "#%%\n"
    }
   }
  },
  {
   "cell_type": "code",
   "execution_count": null,
   "outputs": [],
   "source": [
    "df_pokemon_values.values.tolist()"
   ],
   "metadata": {
    "collapsed": false,
    "pycharm": {
     "name": "#%%\n"
    }
   }
  },
  {
   "cell_type": "code",
   "execution_count": null,
   "outputs": [],
   "source": [
    "list_df_pokemon_values = df_pokemon_values.values.tolist()"
   ],
   "metadata": {
    "collapsed": false,
    "pycharm": {
     "name": "#%%\n"
    }
   }
  },
  {
   "cell_type": "code",
   "execution_count": null,
   "outputs": [],
   "source": [
    "list_df_pokemon_values"
   ],
   "metadata": {
    "collapsed": false,
    "pycharm": {
     "name": "#%%\n"
    }
   }
  },
  {
   "cell_type": "code",
   "execution_count": null,
   "outputs": [],
   "source": [
    "print(list_df_pokemon_values == pokemon_values)"
   ],
   "metadata": {
    "collapsed": false,
    "pycharm": {
     "name": "#%%\n"
    }
   }
  },
  {
   "cell_type": "markdown",
   "source": [
    "### Bonus Trak Normalizzazione\n",
    "Creiamo una funzione per normalizzare"
   ],
   "metadata": {
    "collapsed": false,
    "pycharm": {
     "name": "#%% md\n"
    }
   }
  },
  {
   "cell_type": "code",
   "execution_count": null,
   "outputs": [],
   "source": [
    "def normalizer(dataset):\n",
    "    min_max = []\n",
    "    for column in range(len(dataset[0])):\n",
    "        col_values = [row[column] for row in dataset]\n",
    "        min_value = min(col_values)\n",
    "        max_value = max(col_values)\n",
    "        min_max.append((min_value, max_value))\n",
    "    normalized_dataset = []\n",
    "    for row in dataset:\n",
    "        normalized_row = []\n",
    "        for i, element in enumerate(row):\n",
    "            normalized_element = (element - min_max[i][0]) / (min_max[i][1] - min_max[i][0])\n",
    "            normalized_row.append(normalized_element)\n",
    "        normalized_dataset.append(normalized_row)\n",
    "    return normalized_dataset\n",
    "\n",
    "\n",
    "normalized_pokemon_rows = normalizer(pokemon_values)\n",
    "print(normalized_pokemon_rows[0])"
   ],
   "metadata": {
    "collapsed": false,
    "pycharm": {
     "name": "#%%\n"
    }
   }
  },
  {
   "cell_type": "code",
   "execution_count": null,
   "outputs": [],
   "source": [
    "print(normalized_pokemon_rows[700])"
   ],
   "metadata": {
    "collapsed": false,
    "pycharm": {
     "name": "#%%\n"
    }
   }
  },
  {
   "cell_type": "markdown",
   "source": [
    "Normalizziamo con pandas"
   ],
   "metadata": {
    "collapsed": false,
    "pycharm": {
     "name": "#%% md\n"
    }
   }
  },
  {
   "cell_type": "code",
   "execution_count": null,
   "outputs": [],
   "source": [
    "df_pokemon.min()"
   ],
   "metadata": {
    "collapsed": false,
    "pycharm": {
     "name": "#%%\n"
    }
   }
  },
  {
   "cell_type": "code",
   "execution_count": null,
   "outputs": [],
   "source": [
    "def df_normalizer(df):\n",
    "    normalized_df = (df - df.min()) / (df.max() - df.min())\n",
    "    return normalized_df\n",
    "\n",
    "\n",
    "df_normalized = df_normalizer(df_pokemon[COLUMNS])\n",
    "print(df_normalized.head())"
   ],
   "metadata": {
    "collapsed": false,
    "pycharm": {
     "name": "#%%\n"
    }
   }
  },
  {
   "cell_type": "markdown",
   "id": "05438def",
   "metadata": {
    "pycharm": {
     "name": "#%% md\n"
    }
   },
   "source": [
    "### Sottoproblema 2.c Trovare i k pokemon più simili utilizzando la funzione di similarità\n"
   ]
  },
  {
   "cell_type": "markdown",
   "id": "104a291b",
   "metadata": {
    "pycharm": {
     "name": "#%% md\n"
    }
   },
   "source": [
    "Qui andremo ad unire i pezzi:\n",
    "- Partiamo dall'input dell'utente e creiamo una lista corrispondente ad un pokemon \"fittizio\"\n",
    "- Aggiungiamo al dataset e normalizziamo (ottenendo un dataset normalizzato)\n",
    "- Estraiamo ultima riga (corrispondente al pokemon fittizio)\n",
    "- in un ciclo for calcoliamo le distanze e le inseriamo nella struttura dati complessa\n",
    "- orinamento tramite sort e lambda\n",
    "- estraiamo i primi K elementi"
   ]
  },
  {
   "cell_type": "code",
   "execution_count": null,
   "id": "2d3785b7",
   "metadata": {
    "pycharm": {
     "name": "#%%\n"
    }
   },
   "outputs": [],
   "source": [
    "lista=['a','b','c']\n",
    "def test(l):\n",
    "    l.append(1)\n",
    "    \n",
    "test(lista)\n",
    "print(lista)"
   ]
  },
  {
   "cell_type": "code",
   "execution_count": null,
   "id": "e1aa2c6e",
   "metadata": {
    "pycharm": {
     "name": "#%%\n"
    }
   },
   "outputs": [],
   "source": [
    "def sorter(x):\n",
    "    return x[1]"
   ]
  },
  {
   "cell_type": "code",
   "execution_count": null,
   "id": "a80faa4b",
   "metadata": {
    "pycharm": {
     "name": "#%%\n"
    }
   },
   "outputs": [],
   "source": [
    "def get_k_neighbors(dataset, element, k=5):\n",
    "    complete_dataset = dataset + [element]\n",
    "    normalized_dataset = normalizer(complete_dataset)\n",
    "    normalized_element = normalized_dataset[-1]\n",
    "    normalized_dataset = normalized_dataset[:-1]\n",
    "    distances = []\n",
    "    for i, row in enumerate(normalized_dataset):\n",
    "        distance = euclidean_distance(normalized_element, row)\n",
    "        distances.append((i, distance))\n",
    "    distances.sort(key=sorter)\n",
    "    return distances[:k]"
   ]
  },
  {
   "cell_type": "code",
   "execution_count": null,
   "id": "f0e2a7c9",
   "metadata": {
    "pycharm": {
     "name": "#%%\n"
    }
   },
   "outputs": [],
   "source": [
    "hp = float(input('quale è il valore dei punti vita?\\n'))\n",
    "attack = float(input('quale è il valore di attacco?\\n'))\n",
    "defense = float(input('quale è il valore di difesa?\\n'))\n",
    "sp_atk = float(input(\"quale è il valore dell'attacco speciale?\\n\"))\n",
    "sp_def = float(input(\"quale è il valore della difesa speciale?\\n\"))\n",
    "speed = float(input(\"quale è il valore della velocità?\\n\"))"
   ]
  },
  {
   "cell_type": "code",
   "execution_count": null,
   "id": "2c42a895",
   "metadata": {
    "pycharm": {
     "name": "#%%\n"
    }
   },
   "outputs": [],
   "source": [
    "our_pokemon = [hp, attack, defense, sp_atk, sp_def, speed]\n",
    "neighbors = get_k_neighbors(pokemon_values, our_pokemon)"
   ]
  },
  {
   "cell_type": "code",
   "execution_count": null,
   "id": "15149f2e",
   "metadata": {
    "pycharm": {
     "name": "#%%\n"
    }
   },
   "outputs": [],
   "source": [
    "print(neighbors)"
   ]
  },
  {
   "cell_type": "markdown",
   "id": "3e9c3813",
   "metadata": {
    "pycharm": {
     "name": "#%% md\n"
    }
   },
   "source": [
    "usiamo pandas"
   ]
  },
  {
   "cell_type": "code",
   "execution_count": null,
   "outputs": [],
   "source": [
    "def df_euclidean_distance(row, normalized_element):\n",
    "    return euclidean_distance(row, normalized_element)\n"
   ],
   "metadata": {
    "collapsed": false,
    "pycharm": {
     "name": "#%%\n"
    }
   }
  },
  {
   "cell_type": "code",
   "execution_count": null,
   "id": "998d8346",
   "metadata": {
    "pycharm": {
     "name": "#%%\n"
    }
   },
   "outputs": [],
   "source": [
    "def df_get_k_neighbors(dataset, element, k=5):\n",
    "    df_pokemon_values = dataset[COLUMNS]\n",
    "    pokemon_index = df_pokemon_values.index.max() + 1\n",
    "    pokemon = pd.Series(element, COLUMNS, name=pokemon_index)\n",
    "    complete_dataset = pd.concat([df_pokemon_values, pd.DataFrame([pokemon])])\n",
    "    normalized_dataset = df_normalizer(complete_dataset)\n",
    "    normalized_element = normalized_dataset.loc[pokemon_index]\n",
    "    normalized_dataset = normalized_dataset[normalized_dataset.index != pokemon_index]\n",
    "    normalized_dataset['distance'] = normalized_dataset.apply(df_euclidean_distance,normalized_element=normalized_element ,axis=1)\n",
    "    normalized_dataset.sort_values('distance', inplace=True)\n",
    "    return normalized_dataset.head(k)[['distance']]"
   ]
  },
  {
   "cell_type": "code",
   "execution_count": null,
   "id": "c1a10c8a",
   "metadata": {
    "pycharm": {
     "name": "#%%\n"
    }
   },
   "outputs": [],
   "source": [
    "hp = float(input('quale è il valore dei punti vita?\\n'))\n",
    "attack = float(input('quale è il valore di attacco?\\n'))\n",
    "defense = float(input('quale è il valore di difesa?\\n'))\n",
    "sp_atk = float(input(\"quale è il valore dell'attacco speciale?\\n\"))\n",
    "sp_def = float(input(\"quale è il valore della difesa speciale?\\n\"))\n",
    "speed = float(input(\"quale è il valore della velocità?\\n\"))"
   ]
  },
  {
   "cell_type": "code",
   "execution_count": null,
   "id": "03dca693",
   "metadata": {
    "pycharm": {
     "name": "#%%\n"
    }
   },
   "outputs": [],
   "source": [
    "our_pokemon = [hp, attack, defense, sp_atk, sp_def, speed]\n",
    "df_neighbors = df_get_k_neighbors(df_pokemon, our_pokemon)\n",
    "print(df_neighbors)"
   ]
  },
  {
   "cell_type": "markdown",
   "id": "d7fbe7e0",
   "metadata": {
    "pycharm": {
     "name": "#%% md\n"
    }
   },
   "source": [
    "### Sottoproblema 3 Visualizzare i risultati"
   ]
  },
  {
   "cell_type": "code",
   "execution_count": null,
   "id": "02fb65ff",
   "metadata": {
    "pycharm": {
     "name": "#%%\n"
    }
   },
   "outputs": [],
   "source": [
    "print(columns)"
   ]
  },
  {
   "cell_type": "code",
   "execution_count": null,
   "id": "cf90c55a",
   "metadata": {
    "pycharm": {
     "name": "#%%\n"
    }
   },
   "outputs": [],
   "source": [
    "def print_pokemon(index):\n",
    "    s = f'{pokemon_rows[index][0]} - {pokemon_rows[index][1]}, di tipo {pokemon_rows[index][2]}'\n",
    "    if pokemon_rows[index][-1] == 'True':\n",
    "        s +='\\n - Pokemon Leggendario'\n",
    "    else:\n",
    "        s += '\\n - Pokemon Non Leggendario'\n",
    "    for column, value in zip(columns, pokemon_rows[index]):\n",
    "        s += f'\\n{column:10} -> {value:5}'\n",
    "    print(s + '\\n')"
   ]
  },
  {
   "cell_type": "code",
   "execution_count": null,
   "id": "ea0ed82d",
   "metadata": {
    "pycharm": {
     "name": "#%%\n"
    }
   },
   "outputs": [],
   "source": [
    "for n in neighbors:\n",
    "    print_pokemon(n[0])"
   ]
  },
  {
   "cell_type": "markdown",
   "id": "a687a7bd",
   "metadata": {
    "pycharm": {
     "name": "#%% md\n"
    }
   },
   "source": [
    "con pandas"
   ]
  },
  {
   "cell_type": "code",
   "execution_count": null,
   "id": "f1363244",
   "metadata": {
    "pycharm": {
     "name": "#%%\n"
    }
   },
   "outputs": [],
   "source": [
    "def print_pokemon(index):\n",
    "    s = f'{df_pokemon.loc[index, \"#\"]} - {df_pokemon.loc[index, \"Name\"]}, di tipo {df_pokemon.loc[index, \"Type 1\"]}'\n",
    "    if df_pokemon.loc[index, \"Legendary\"]:\n",
    "        s += '\\n - Pokemon Leggendario'\n",
    "    else:\n",
    "        s += '\\n - Pokemon Non Leggendario'\n",
    "    for column in df_pokemon.columns:\n",
    "        s += f'\\n{column:10} -> {df_pokemon.loc[index, column]:5}'\n",
    "    print(s + '\\n')"
   ]
  },
  {
   "cell_type": "code",
   "execution_count": null,
   "id": "043de2d2",
   "metadata": {
    "pycharm": {
     "name": "#%%\n"
    }
   },
   "outputs": [],
   "source": [
    "for n in df_neighbors.index:\n",
    "    print_pokemon(n)"
   ]
  },
  {
   "cell_type": "markdown",
   "id": "b4cdd845",
   "metadata": {
    "pycharm": {
     "name": "#%% md\n"
    }
   },
   "source": [
    "### Visualizzare i Pokemon\n"
   ]
  },
  {
   "cell_type": "code",
   "execution_count": null,
   "id": "cd6a578c",
   "metadata": {
    "pycharm": {
     "name": "#%%\n"
    }
   },
   "outputs": [],
   "source": [
    "from IPython.display import Image"
   ]
  },
  {
   "cell_type": "code",
   "execution_count": null,
   "id": "294e6d6f",
   "metadata": {
    "pycharm": {
     "name": "#%%\n"
    }
   },
   "outputs": [],
   "source": [
    "for n, p in enumerate(neighbors):\n",
    "    index = p[0]\n",
    "    print('-' * 50)\n",
    "    print(n + 1)\n",
    "    print(pokemon_rows[index][1])\n",
    "    display(Image(f\"resized/{pokemon_rows[index][0]}.jpg\", width=150))\n",
    "    print('-' * 50)"
   ]
  },
  {
   "cell_type": "markdown",
   "id": "c1493013",
   "metadata": {
    "pycharm": {
     "name": "#%% md\n"
    }
   },
   "source": [
    "con pandas"
   ]
  },
  {
   "cell_type": "code",
   "execution_count": null,
   "id": "8eeb642c",
   "metadata": {
    "pycharm": {
     "name": "#%%\n"
    }
   },
   "outputs": [],
   "source": [
    "from IPython.display import Image\n",
    "\n",
    "for n, p in enumerate(df_neighbors.index):\n",
    "    index = p\n",
    "    print('-' * 50)\n",
    "    print(n + 1)\n",
    "    print(df_pokemon.loc[index, 'Name'])\n",
    "    display(Image(f'resized/{df_pokemon.loc[index, \"#\"]}.jpg', width=150))\n",
    "    print('-' * 50)"
   ]
  },
  {
   "cell_type": "markdown",
   "id": "4222b61c",
   "metadata": {
    "pycharm": {
     "name": "#%% md\n"
    }
   },
   "source": [
    "## Riassumendo"
   ]
  },
  {
   "cell_type": "code",
   "execution_count": null,
   "id": "b57bac41",
   "metadata": {
    "pycharm": {
     "name": "#%%\n"
    }
   },
   "outputs": [],
   "source": [
    "import pandas as pd\n",
    "import math\n",
    "\n",
    "COLUMNS = ['HP', 'Attack', 'Defense', 'Sp. Atk', 'Sp. Def', 'Speed']\n",
    "\n",
    "df_pokemon = pd.read_csv('pokemon.csv')\n",
    "\n",
    "\n",
    "def euclidean_distance(p, q):\n",
    "    distance = 0\n",
    "    for px, qx in zip(p, q):\n",
    "        distance += math.pow((px - qx), 2)\n",
    "    distance = math.sqrt(distance)\n",
    "    return distance\n",
    "\n",
    "\n",
    "def df_normalizer(df):\n",
    "    normalized_df = (df - df.min()) / (df.max() - df.min())\n",
    "    return normalized_df\n",
    "\n",
    "\n",
    "def df_get_k_neighbors(dataset, element, k=5):\n",
    "    df_pokemon_values = dataset[COLUMNS]\n",
    "    pokemon_index = df_pokemon_values.index.max() + 1\n",
    "    pokemon = pd.Series(element, COLUMNS, name=pokemon_index)\n",
    "    complete_dataset = pd.concat([df_pokemon_values, pd.DataFrame([pokemon, ])])\n",
    "    normalized_dataset = df_normalizer(complete_dataset)\n",
    "    normalized_element = normalized_dataset.loc[pokemon_index]\n",
    "    normalized_dataset = normalized_dataset[normalized_dataset.index != pokemon_index]\n",
    "    normalized_dataset['distance'] = normalized_dataset.apply(lambda row: euclidean_distance(row, normalized_element),\n",
    "                                                              axis=1)\n",
    "    normalized_dataset.sort_values('distance', inplace=True)\n",
    "    return normalized_dataset.head(k)[['distance']]\n",
    "\n",
    "\n",
    "def print_pokemon(index):\n",
    "    s = f'{df_pokemon.loc[index, \"#\"]} - {df_pokemon.loc[index, \"Name\"]}, di tipo {df_pokemon.loc[index, \"Type 1\"]}'\n",
    "    if df_pokemon.loc[index, \"Legendary\"]:\n",
    "        s += f'\\n - Pokemon Leggendario'\n",
    "    else:\n",
    "        s += f'\\n - Pokemon Non Leggendario'\n",
    "    for column in df_pokemon.columns:\n",
    "        s += f'\\n{column:10} -> {df_pokemon.loc[index, column]:5}'\n",
    "    print(s + '\\n')"
   ]
  },
  {
   "cell_type": "code",
   "execution_count": null,
   "id": "618813b7",
   "metadata": {
    "pycharm": {
     "name": "#%%\n"
    }
   },
   "outputs": [],
   "source": [
    "hp = float(input('quale è il valore dei punti vita?\\n'))\n",
    "attack = float(input('quale è il valore di attacco?\\n'))\n",
    "defense = float(input('quale è il valore di difesa?\\n'))\n",
    "sp_atk = float(input(\"quale è il valore dell'attacco speciale?\\n\"))\n",
    "sp_def = float(input(\"quale è il valore della difesa speciale?\\n\"))\n",
    "speed = float(input(\"quale è il valore della velocità?\\n\"))"
   ]
  },
  {
   "cell_type": "code",
   "execution_count": null,
   "id": "bb51b811",
   "metadata": {
    "pycharm": {
     "name": "#%%\n"
    }
   },
   "outputs": [],
   "source": [
    "our_pokemon = [hp, attack, defense, sp_atk, sp_def, speed]\n",
    "df_neighbors = df_get_k_neighbors(df_pokemon, our_pokemon)"
   ]
  },
  {
   "cell_type": "code",
   "execution_count": null,
   "id": "a85184dc",
   "metadata": {
    "pycharm": {
     "name": "#%%\n"
    }
   },
   "outputs": [],
   "source": [
    "for n in df_neighbors.index:\n",
    "    print_pokemon(n)"
   ]
  },
  {
   "cell_type": "code",
   "execution_count": null,
   "id": "4d21d71b",
   "metadata": {
    "pycharm": {
     "name": "#%%\n"
    }
   },
   "outputs": [],
   "source": [
    "from IPython.display import Image\n",
    "\n",
    "for n, p in enumerate(df_neighbors.index):\n",
    "    index = p\n",
    "    print('-' * 50)\n",
    "    print(n + 1)\n",
    "    print(df_pokemon.loc[index, 'Name'])\n",
    "    display(Image(f'resized/{df_pokemon.loc[index, \"#\"]}.jpg', width=150))\n",
    "    print('-' * 50)"
   ]
  }
 ],
 "metadata": {
  "colab": {
   "name": "Live_Coding.ipynb",
   "provenance": []
  },
  "kernelspec": {
   "display_name": "Python 3 (ipykernel)",
   "language": "python",
   "name": "python3"
  },
  "language_info": {
   "codemirror_mode": {
    "name": "ipython",
    "version": 3
   },
   "file_extension": ".py",
   "mimetype": "text/x-python",
   "name": "python",
   "nbconvert_exporter": "python",
   "pygments_lexer": "ipython3",
   "version": "3.10.5"
  }
 },
 "nbformat": 4,
 "nbformat_minor": 5
}