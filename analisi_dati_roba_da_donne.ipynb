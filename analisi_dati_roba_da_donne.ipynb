{
  "nbformat": 4,
  "nbformat_minor": 0,
  "metadata": {
    "colab": {
      "provenance": []
    },
    "kernelspec": {
      "name": "python3",
      "display_name": "Python 3"
    },
    "language_info": {
      "name": "python"
    }
  },
  "cells": [
    {
      "cell_type": "code",
      "execution_count": 1,
      "metadata": {
        "colab": {
          "base_uri": "https://localhost:8080/"
        },
        "id": "YAWtQsXBZqSR",
        "outputId": "dd5309a0-78eb-4eec-eb04-2e5dd330c281"
      },
      "outputs": [
        {
          "output_type": "stream",
          "name": "stdout",
          "text": [
            "Mounted at /content/drive\n"
          ]
        }
      ],
      "source": [
        "import pandas as pd\n",
        "import numpy as np\n",
        "from IPython.display import Image\n",
        "import os\n",
        "from google.colab import drive\n",
        "import matplotlib.pyplot as plt\n",
        "import seaborn as sns\n",
        "\n",
        "plt.rcParams['figure.dpi'] = 150\n",
        "\n",
        "drive.mount(\"/content/drive\", force_remount=True)\n",
        "os.chdir(\"/content/drive/My Drive/beginners\")\n"
      ]
    },
    {
      "cell_type": "code",
      "source": [
        "def euclidean_distance(p1, p2): \n",
        "  dim = len(p1)\n",
        "  distance = 0\n",
        "  for d in range(0, dim):\n",
        "    diff = p1[d] - p2[d]\n",
        "    sq = diff ** 2\n",
        "    distance = distance + sq\n",
        "  distance = distance ** (1/2)\n",
        "  return distance"
      ],
      "metadata": {
        "id": "g8BhK_BtZuT4"
      },
      "execution_count": 2,
      "outputs": []
    },
    {
      "cell_type": "code",
      "source": [
        "def order_method(x):\n",
        "  return x[1]\n",
        "\n",
        "def get_k_neighbors(k, dataset, element):\n",
        "  distances=[]\n",
        "  for index,row in enumerate(dataset.iloc[:, 5:11].values):\n",
        "    distance=euclidean_distance(row,element)\n",
        "    distances.append((index,distance))\n",
        "\n",
        "  distances.sort(key=order_method)\n",
        "  return distances[:k]"
      ],
      "metadata": {
        "id": "ixwsK-4yS77n"
      },
      "execution_count": 3,
      "outputs": []
    },
    {
      "cell_type": "code",
      "source": [
        "df =  pd.read_csv('pokemon.csv')\n",
        "\n",
        "def get_pokemon_info(id):\n",
        "  return df.iloc[id].to_dict()"
      ],
      "metadata": {
        "id": "YFayQ7DofDH8"
      },
      "execution_count": 4,
      "outputs": []
    },
    {
      "cell_type": "code",
      "source": [
        "#hp=45\n",
        "#attack=49\n",
        "#defense=49\n",
        "#sp_atk=65\n",
        "#sp_def=65\n",
        "#speed=45\n",
        "\n",
        "#our_pokemon = [ hp, attack, defense, sp_atk, sp_def, speed ]\n",
        "\n",
        "\n",
        "\n",
        "#neighbors = get_k_neighbors(5, df, our_pokemon)\n",
        "\n",
        "#print(neighbors)\n",
        "\n",
        "#for i in neighbors:\n",
        "#  index = i[0]\n",
        "#  p = get_pokemon_info(index)\n",
        "#  print(p['Name'])\n",
        "\n"
      ],
      "metadata": {
        "id": "5-eGT6GHRBuc"
      },
      "execution_count": 5,
      "outputs": []
    },
    {
      "cell_type": "code",
      "source": [
        "#from IPython.display import Image\n",
        "\n",
        "#for n,p in enumerate(neighbors):\n",
        "#  index=p[0]\n",
        "#  p = get_pokemon_info(index)\n",
        "#  print(p['Name'])\n",
        "#  display(Image(f\"resized/{p['#']}.jpg\",width=150))\n",
        "#  print('-'*50)"
      ],
      "metadata": {
        "id": "xESEmpQigBdl"
      },
      "execution_count": 6,
      "outputs": []
    },
    {
      "cell_type": "markdown",
      "source": [
        "## Task 1: Prendere in input dei numeri dall'utente e memorizzarli in variabili\n",
        "\n",
        "Utilizzare la funzione `input` di Python e convertire in interi i valori inseriti dall'utente con la funzione `int`:"
      ],
      "metadata": {
        "id": "Psmpz7_EjJHa"
      }
    },
    {
      "cell_type": "code",
      "source": [
        "# Task 1"
      ],
      "metadata": {
        "id": "gPgUwIVDjXLL"
      },
      "execution_count": 7,
      "outputs": []
    },
    {
      "cell_type": "markdown",
      "source": [
        "## Task 2: Inserire i valori memorizzati in una lista"
      ],
      "metadata": {
        "id": "ecpga73VjaMK"
      }
    },
    {
      "cell_type": "code",
      "source": [
        "# Cicli for e enumerate"
      ],
      "metadata": {
        "id": "ai-FKI_OjhHC"
      },
      "execution_count": 8,
      "outputs": []
    },
    {
      "cell_type": "markdown",
      "source": [
        "## Task 3: Esplorare il dataset Pokemon dopo averlo importato con Pandas\n"
      ],
      "metadata": {
        "id": "oSR-o-wfjh0U"
      }
    },
    {
      "cell_type": "code",
      "source": [],
      "metadata": {
        "id": "zGDL2IkBjku6"
      },
      "execution_count": 8,
      "outputs": []
    },
    {
      "cell_type": "markdown",
      "source": [
        "## Task 4: Creare una funzione per stampare un messaggio\n",
        "\n",
        "L'idea è che utilizziamo questa funzione per stampare un messaggio \"human-readable\" dei risultati del nostro motore di ricerca"
      ],
      "metadata": {
        "id": "oxuxeOnkjlhJ"
      }
    },
    {
      "cell_type": "code",
      "source": [
        "# Qui affronteremo anche il concetto di dizionario"
      ],
      "metadata": {
        "id": "cM2hgOZDjrmE"
      },
      "execution_count": 9,
      "outputs": []
    },
    {
      "cell_type": "markdown",
      "source": [
        "## Task 5: Chiamare la funzione per calcolare le distanze fra Pokemon e ordinarli\n",
        "Abbiamo fatto il lavoro sporco per te. Se invece vuoi cimentarti... fai pure!"
      ],
      "metadata": {
        "id": "ibGTuYTDjziK"
      }
    },
    {
      "cell_type": "code",
      "source": [],
      "metadata": {
        "id": "WO8vJpq8j_jF"
      },
      "execution_count": 9,
      "outputs": []
    },
    {
      "cell_type": "markdown",
      "source": [
        "## Task 6: Bonus Track - Visualizzare le immagini dei Pokémon\n",
        "\n",
        "Sfruttiamo le immagini dei Pokemon per avere un output più accattivante!"
      ],
      "metadata": {
        "id": "Cf8tOAjGkAIj"
      }
    },
    {
      "cell_type": "code",
      "source": [],
      "metadata": {
        "id": "M-0ouvHAkPlb"
      },
      "execution_count": 9,
      "outputs": []
    }
  ]
}